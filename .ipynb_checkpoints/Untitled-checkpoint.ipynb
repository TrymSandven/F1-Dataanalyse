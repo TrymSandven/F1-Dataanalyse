{
 "cells": [
  {
   "cell_type": "code",
   "execution_count": null,
   "id": "87be8fa9-6d52-4998-b355-f50b7876a22a",
   "metadata": {},
   "outputs": [],
   "source": [
    "pip install fastf1"
   ]
  },
  {
   "cell_type": "code",
   "execution_count": null,
   "id": "ff911d49-3071-4d2b-b354-1f99f67290fd",
   "metadata": {},
   "outputs": [],
   "source": []
  }
 ],
 "metadata": {
  "kernelspec": {
   "display_name": "Python 3 (ipykernel)",
   "language": "python",
   "name": "python3"
  },
  "language_info": {
   "codemirror_mode": {
    "name": "ipython",
    "version": 3
   },
   "file_extension": ".py",
   "mimetype": "text/x-python",
   "name": "python",
   "nbconvert_exporter": "python",
   "pygments_lexer": "ipython3",
   "version": "3.9.7"
  }
 },
 "nbformat": 4,
 "nbformat_minor": 5
}

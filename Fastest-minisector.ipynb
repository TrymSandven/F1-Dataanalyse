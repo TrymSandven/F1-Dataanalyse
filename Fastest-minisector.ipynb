{
 "cells": [
  {
   "cell_type": "code",
   "execution_count": 51,
   "id": "b6254dfc-2334-45d3-a2cf-605ce4a2ee50",
   "metadata": {},
   "outputs": [],
   "source": [
    "import fastf1 as ff1\n",
    "from fastf1 import plotting\n",
    "from matplotlib import pyplot as plt\n",
    "from matplotlib.pyplot import figure\n",
    "from matplotlib.collections import LineCollection\n",
    "from matplotlib import cm\n",
    "import numpy as np\n",
    "import pandas as pd"
   ]
  },
  {
   "cell_type": "code",
   "execution_count": 52,
   "id": "35f20c18-fbcd-497e-a533-7db8086f1611",
   "metadata": {},
   "outputs": [],
   "source": [
    "# Setup plotting\n",
    "plotting.setup_mpl()\n",
    "\n",
    "# Enable the cache\n",
    "ff1.Cache.enable_cache('cache') \n",
    "\n",
    "# Get rid of some pandas warnings that are not relevant for us at the moment\n",
    "pd.options.mode.chained_assignment = None"
   ]
  },
  {
   "cell_type": "code",
   "execution_count": 53,
   "id": "ded345df-c481-4798-8c67-c57501140581",
   "metadata": {},
   "outputs": [
    {
     "name": "stderr",
     "output_type": "stream",
     "text": [
      "C:\\Users\\trym1\\anaconda3\\lib\\site-packages\\fastf1\\core.py:1116: FutureWarning: `Session.load_laps` is deprecated and will beremoved in a future version.\n",
      "Use `Session.load` instead.\n",
      "  warnings.warn(\"`Session.load_laps` is deprecated and will be\"\n",
      "core           INFO \tLoading data for Spanish Grand Prix - Practice 2 [v2.2.6]\n",
      "api            INFO \tUsing cached data for driver_info\n",
      "core        WARNING \tFailed to load data from Ergast API! (This is expected for recent sessions)\n",
      "api            INFO \tUsing cached data for timing_data\n",
      "api            INFO \tUsing cached data for timing_app_data\n",
      "core           INFO \tProcessing timing data...\n",
      "api            INFO \tUsing cached data for session_status_data\n",
      "api            INFO \tUsing cached data for track_status_data\n",
      "api            INFO \tUsing cached data for car_data\n",
      "api            INFO \tUsing cached data for position_data\n",
      "api            INFO \tUsing cached data for weather_data\n",
      "api            INFO \tUsing cached data for race_control_messages\n",
      "core           INFO \tFinished loading data for 20 drivers: ['1', '55', '47', '44', '31', '24', '23', '22', '20', '18', '16', '14', '11', '10', '6', '5', '4', '3', '63', '77']\n"
     ]
    }
   ],
   "source": [
    "# Load the session data\n",
    "race = ff1.get_session(2022, 'Barcelona', 'FP2')\n",
    "\n",
    "# Get the laps\n",
    "laps = race.load_laps(with_telemetry=True)"
   ]
  },
  {
   "cell_type": "code",
   "execution_count": 54,
   "id": "aedd5abc-a03b-4734-8586-c2e078132575",
   "metadata": {},
   "outputs": [],
   "source": [
    "# Get all drivers\n",
    "drivers = pd.unique(laps['Driver'])\n",
    "\n",
    "telemetry = pd.DataFrame()\n",
    "\n",
    "# Telemetry can only be retrieved driver-by-driver\n",
    "for driver in drivers:\n",
    "    driver_laps = laps.pick_driver(driver)\n",
    "    \n",
    "    # Since we want to compare distances, we need to collect telemetry lap-by-lap to reset the distance\n",
    "    for lap in driver_laps.iterlaps():\n",
    "        driver_telemetry = lap[1].get_telemetry().add_distance()\n",
    "        driver_telemetry['Driver'] = driver\n",
    "        driver_telemetry['Lap'] = lap[1]['LapNumber']\n",
    "    \n",
    "        telemetry = telemetry.append(driver_telemetry)"
   ]
  },
  {
   "cell_type": "code",
   "execution_count": 55,
   "id": "17504363-8467-496b-a9bb-2956eb18fa59",
   "metadata": {},
   "outputs": [],
   "source": [
    "# We want 25 mini-sectors\n",
    "num_minisectors = 28\n",
    "\n",
    "# What is the total distance of a lap?\n",
    "total_distance = max(telemetry['Distance'])\n",
    "\n",
    "# Generate equally sized mini-sectors \n",
    "minisector_length = total_distance / num_minisectors\n",
    "\n",
    "minisectors = [0]\n",
    "\n",
    "for i in range(0, (num_minisectors - 1)):\n",
    "    minisectors.append(minisector_length * (i + 1))"
   ]
  },
  {
   "cell_type": "code",
   "execution_count": 56,
   "id": "a13b2056-497a-49f8-b9bf-035e7e18eb10",
   "metadata": {},
   "outputs": [],
   "source": [
    "telemetry['Minisector'] =  telemetry['Distance'].apply(\n",
    "  lambda z: (\n",
    "    minisectors.index(\n",
    "      min(minisectors, key=lambda x: abs(x-z)))+1\n",
    "  )\n",
    ")"
   ]
  },
  {
   "cell_type": "code",
   "execution_count": 57,
   "id": "14bfddb4-2cf1-43f4-a7a5-c2770ae7140c",
   "metadata": {},
   "outputs": [
    {
     "data": {
      "text/html": [
       "<div>\n",
       "<style scoped>\n",
       "    .dataframe tbody tr th:only-of-type {\n",
       "        vertical-align: middle;\n",
       "    }\n",
       "\n",
       "    .dataframe tbody tr th {\n",
       "        vertical-align: top;\n",
       "    }\n",
       "\n",
       "    .dataframe thead th {\n",
       "        text-align: right;\n",
       "    }\n",
       "</style>\n",
       "<table border=\"1\" class=\"dataframe\">\n",
       "  <thead>\n",
       "    <tr style=\"text-align: right;\">\n",
       "      <th></th>\n",
       "      <th>Lap</th>\n",
       "      <th>Minisector</th>\n",
       "      <th>Driver</th>\n",
       "      <th>Speed</th>\n",
       "    </tr>\n",
       "  </thead>\n",
       "  <tbody>\n",
       "    <tr>\n",
       "      <th>0</th>\n",
       "      <td>1</td>\n",
       "      <td>1</td>\n",
       "      <td>ALB</td>\n",
       "      <td>111.368421</td>\n",
       "    </tr>\n",
       "    <tr>\n",
       "      <th>1</th>\n",
       "      <td>1</td>\n",
       "      <td>1</td>\n",
       "      <td>ALO</td>\n",
       "      <td>108.090909</td>\n",
       "    </tr>\n",
       "    <tr>\n",
       "      <th>2</th>\n",
       "      <td>1</td>\n",
       "      <td>1</td>\n",
       "      <td>BOT</td>\n",
       "      <td>105.565217</td>\n",
       "    </tr>\n",
       "    <tr>\n",
       "      <th>3</th>\n",
       "      <td>1</td>\n",
       "      <td>1</td>\n",
       "      <td>GAS</td>\n",
       "      <td>103.565217</td>\n",
       "    </tr>\n",
       "    <tr>\n",
       "      <th>4</th>\n",
       "      <td>1</td>\n",
       "      <td>1</td>\n",
       "      <td>HAM</td>\n",
       "      <td>13.482353</td>\n",
       "    </tr>\n",
       "  </tbody>\n",
       "</table>\n",
       "</div>"
      ],
      "text/plain": [
       "   Lap  Minisector Driver       Speed\n",
       "0    1           1    ALB  111.368421\n",
       "1    1           1    ALO  108.090909\n",
       "2    1           1    BOT  105.565217\n",
       "3    1           1    GAS  103.565217\n",
       "4    1           1    HAM   13.482353"
      ]
     },
     "execution_count": 57,
     "metadata": {},
     "output_type": "execute_result"
    }
   ],
   "source": [
    "average_speed = telemetry.groupby(['Lap', 'Minisector', 'Driver'])['Speed'].mean().reset_index()\n",
    "average_speed.head()"
   ]
  },
  {
   "cell_type": "code",
   "execution_count": 58,
   "id": "7feb7c3c-a901-4830-9086-76fdb0613bc9",
   "metadata": {},
   "outputs": [],
   "source": [
    "# Select the compound with the highest average speed\n",
    "fastest_driver = average_speed.loc[average_speed.groupby(['Lap', 'Minisector'])['Speed'].idxmax()]\n",
    "\n",
    "# Get rid of the speed column and rename the Compound column\n",
    "fastest_driver = fastest_driver[['Lap', 'Minisector', 'Driver']].rename(columns={'Driver': 'Fastest_driver'})"
   ]
  },
  {
   "cell_type": "code",
   "execution_count": 59,
   "id": "5b6bb973-21f5-4b55-9b6f-eb0d89ccc51f",
   "metadata": {},
   "outputs": [],
   "source": [
    "# Join the fastest compound per minisector with the full telemetry\n",
    "telemetry = telemetry.merge(fastest_driver, on=['Lap', 'Minisector'])\n",
    "\n",
    "# Order the data by distance to make matploblib does not get confused\n",
    "telemetry = telemetry.sort_values(by=['Distance'])\n"
   ]
  },
  {
   "cell_type": "code",
   "execution_count": 60,
   "id": "3f8f8bc7-80de-4e75-aacc-8121b45265e8",
   "metadata": {},
   "outputs": [],
   "source": [
    "telemetry.loc[telemetry['Fastest_driver'] == \"VER\", 'Fastest_driver_ver'] = 1\n",
    "telemetry.loc[telemetry['Fastest_driver'] == \"VET\", 'Fastest_driver_vet'] = 2\n"
   ]
  },
  {
   "cell_type": "code",
   "execution_count": 62,
   "id": "f0a4b1d4-7f44-4bee-b773-d26a110160f1",
   "metadata": {},
   "outputs": [],
   "source": [
    "def generate_minisector_plot(lap, save=False, details=True):\n",
    "    single_lap = telemetry.loc[telemetry['Lap'] == lap]\n",
    "\n",
    "    x = np.array(single_lap['X'].values)\n",
    "    y = np.array(single_lap['Y'].values)\n",
    "\n",
    "    points = np.array([x, y]).T.reshape(-1, 1, 2)\n",
    "    segments = np.concatenate([points[:-1], points[1:]], axis=1)\n",
    "    compound = single_lap['Fastest_driver_ver'].to_numpy().astype(float)\n",
    "\n",
    "    cmap = cm.get_cmap('ocean', 2)\n",
    "    lc_comp = LineCollection(segments, norm=plt.Normalize(1, cmap.N+1), cmap=cmap)\n",
    "    lc_comp.set_array(compound)\n",
    "    lc_comp.set_linewidth(2)\n",
    "\n",
    "    plt.rcParams['figure.figsize'] = [12, 5]\n",
    "    \n",
    "    if details:\n",
    "        title = plt.suptitle(\n",
    "            f\"2021 Russian GP \\n Lap {lap} - Slicks vs. Inters\"\n",
    "        )\n",
    "        \n",
    "    plt.gca().add_collection(lc_comp)\n",
    "    plt.axis('equal')\n",
    "    plt.tick_params(labelleft=False, left=False, labelbottom=False, bottom=False)\n",
    "    \n",
    "    if details:\n",
    "        cbar = plt.colorbar(mappable=lc_comp, boundaries=np.arange(1, 4))\n",
    "        cbar.set_ticks(np.arange(1.5, 9.5))\n",
    "        cbar.set_ticklabels(['Inters', 'Slicks'])\n",
    "    \n",
    "    if save:\n",
    "        plt.savefig(f\"img/minisectors_lap_{lap}.png\", dpi=300)\n",
    "\n",
    "    plt.show()"
   ]
  },
  {
   "cell_type": "code",
   "execution_count": null,
   "id": "263546b7-f6cb-4f2b-bb4a-65f57ba1c1e6",
   "metadata": {},
   "outputs": [],
   "source": []
  }
 ],
 "metadata": {
  "kernelspec": {
   "display_name": "Python 3 (ipykernel)",
   "language": "python",
   "name": "python3"
  },
  "language_info": {
   "codemirror_mode": {
    "name": "ipython",
    "version": 3
   },
   "file_extension": ".py",
   "mimetype": "text/x-python",
   "name": "python",
   "nbconvert_exporter": "python",
   "pygments_lexer": "ipython3",
   "version": "3.9.7"
  }
 },
 "nbformat": 4,
 "nbformat_minor": 5
}
